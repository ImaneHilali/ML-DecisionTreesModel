{
 "cells": [
  {
   "cell_type": "markdown",
   "id": "e56896fd",
   "metadata": {},
   "source": [
    "Implementation of a ML solution to categories E-commerce products using decision trees."
   ]
  },
  {
   "cell_type": "code",
   "execution_count": null,
   "id": "342e7ef2-2a2c-44fd-895c-c3143663acad",
   "metadata": {},
   "outputs": [],
   "source": [
    "import pandas as pd\n",
    "import numpy as np\n",
    "import nltk\n",
    "from nltk.corpus import stopwords\n",
    "from sklearn.feature_extraction.text import CountVectorizer\n",
    "from sklearn.tree import DecisionTreeClassifier\n",
    "from sklearn.model_selection import GridSearchCV\n",
    "from sklearn.metrics import classification_report\n",
    "from scipy.sparse import vstack\n",
    "\n",
    "all_df = pd.read_pickle(\"./at_categories_df.pkl\")"
   ]
  },
  {
   "cell_type": "code",
   "execution_count": 76,
   "id": "522d9cec-403b-4e63-b1e2-b40b97ef1c27",
   "metadata": {},
   "outputs": [],
   "source": [
    "class result_filtre:\n",
    "    def __init__(self,category_value,confused_categories,languages):\n",
    "        self.category = category(category_value,confused_categories,languages)\n",
    "        self.includes = includes(self.category)\n",
    "        self.excludes = excludes(self.includes)\n",
    "        \n",
    "    def show(self):\n",
    "        print(self.category.value)\n",
    "        print(self.includes.sequence_results.get_best_sequence().sequence, self.includes.sequence_results.get_best_sequence().accuracy)\n",
    "        print(self.excludes.sequence_results.get_best_sequence().sequence, self.excludes.sequence_results.get_best_sequence().accuracy)"
   ]
  },
  {
   "cell_type": "code",
   "execution_count": 77,
   "id": "450c3db2-fce2-4c47-a9c0-57f137b4920b",
   "metadata": {},
   "outputs": [],
   "source": [
    "class category:\n",
    "    def __init__(self,category,confused_categories,languages):\n",
    "        self.value = category\n",
    "        self.confused_categories = confused_categories\n",
    "        self.languages = languages\n",
    "        self.df = all_df[all_df['product_group'].isin(confused_categories)]\n",
    "        self.real_classes = self.df['product_group'].values\n",
    "        self.logical_true_false_sample = self.df['product_group'] == category\n",
    "        self.total_true = self.df[self.logical_true_false_sample.values].shape[0]"
   ]
  },
  {
   "cell_type": "code",
   "execution_count": 78,
   "id": "d362fbd6-9a7d-4424-8019-b822c174ede7",
   "metadata": {},
   "outputs": [],
   "source": [
    "class includes:\n",
    "    def __init__(self,category):\n",
    "        self.category = category\n",
    "        self.logical_true_false_sample = self.category.logical_true_false_sample\n",
    "        self.vectorizer = vectorize_includes(category)\n",
    "        self.decision_tree = get_classifier(self.vectorizer.vectorized_data,self.category.real_classes)\n",
    "        self.sequence_results= sequence_result_include(self)\n",
    "        if(self.sequence_results.sequences == []):\n",
    "            self.sequence_results = void_include(self.category.df.shape[0])\n",
    "\n",
    "        \n",
    "    def get_report(self):\n",
    "        return get_report(self.category.real_classes,self.decision_tree.predict(self.vectorizer.vectorized_data))\n",
    "    \n",
    "    "
   ]
  },
  {
   "cell_type": "code",
   "execution_count": 101,
   "id": "ebb7bfa1-15de-4193-a0dd-2decd846adbf",
   "metadata": {},
   "outputs": [],
   "source": [
    "class void_include:\n",
    "    def __init__(self,total_data):\n",
    "        self.sequences = [\"no result\"]\n",
    "        self.existences = [100]\n",
    "        self.accuracies = [0]\n",
    "        self.logical_results = [np.repeat(True,total_data)]\n",
    "    def get_best_sequence(self):\n",
    "        return best_sequence(self)"
   ]
  },
  {
   "cell_type": "code",
   "execution_count": 80,
   "id": "79307c9e-13ed-41a0-af46-aab0dbb22c95",
   "metadata": {},
   "outputs": [],
   "source": [
    "class sequence_result_include:\n",
    "    def __init__(self,includes):\n",
    "        self.includes = includes\n",
    "        self.sequences =[]\n",
    "        self.existences = []\n",
    "        self.accuracies = []\n",
    "        self.logical_results = []\n",
    "        \n",
    "        node_ = node(includes)\n",
    "        self.first_includes_object = first_includes(node_)\n",
    "        \n",
    "        if(self.first_includes_object.nodes == []):\n",
    "            self.sequences.append(\"no result\")\n",
    "            self.existences.append(100)\n",
    "            self.accuracies.append(0)\n",
    "            self.logical_results.append(np.repeat(True,self.includes.category.df.shape[0]))\n",
    "            return None\n",
    "        \n",
    "        self.append_sequence([(self.first_includes_object.feature_ids,'include')],self.first_includes_object.feature_names)\n",
    "        self.second_includes_object = second_includes(self)\n",
    "        \n",
    "        \n",
    "#     def get_sequences(self):\n",
    "#         self.append_sequence([(self.first_includes_object.feature_ids,'include')])\n",
    "#         second_includes(self)\n",
    "        \n",
    "    \n",
    "    def append_sequence(self,sequence,feature_names):\n",
    "        sequence_analysis_ = sequence_analysis(sequence,self.includes)\n",
    "        if(sequence_analysis_.existence <80):\n",
    "            return False\n",
    "        self.sequences.append(list(self.sequences) +[(feature_names,'include')])\n",
    "        self.existences.append(sequence_analysis_.existence)\n",
    "        self.accuracies.append(sequence_analysis_.accuracy)\n",
    "        self.logical_results.append(sequence_analysis_.logical_result)\n",
    "        \n",
    "    def get_best_sequence(self):\n",
    "        return best_sequence(self)"
   ]
  },
  {
   "cell_type": "code",
   "execution_count": 81,
   "id": "30920b3c-42d2-4ec4-990e-a669197f0cf8",
   "metadata": {},
   "outputs": [],
   "source": [
    "class first_includes:\n",
    "    \n",
    "\n",
    "    \n",
    "    def __init__(self,node):\n",
    "        self.current_existence = 0\n",
    "        self.includes = node.includes\n",
    "        self.current_node = node\n",
    "        self.nodes = []\n",
    "        self.feature_ids = []\n",
    "        self.feature_names = []\n",
    "        \n",
    "        self.get_first_includes()\n",
    "        \n",
    "        \n",
    "    def get_first_includes(self):\n",
    "        if(self.current_node.issplit()):\n",
    "            self.current_node.divide_samples()\n",
    "            existence = 100*len(self.current_node.right_true_samples)/self.includes.category.total_true\n",
    "            if(existence < 20):\n",
    "                self.current_node.id = self.current_node.includes.decision_tree.tree_.children_left[self.current_node.id]\n",
    "                self.current_node.samples_stack = self.current_node.left_true_samples + self.current_node.right_true_samples\n",
    "                return self.get_first_includes() \n",
    "            self.current_existence += existence\n",
    "            if(threshold_reached(self.current_existence)):\n",
    "                self.nodes.append(self.current_node.id)\n",
    "                self.feature_ids.append(self.current_node.includes.decision_tree.tree_.feature[self.current_node.id])\n",
    "                self.feature_names.append(self.current_node.includes.vectorizer.features[self.current_node.includes.decision_tree.tree_.feature[self.current_node.id]])\n",
    "                return True\n",
    "            else:\n",
    "                self.nodes.append(self.current_node.id)\n",
    "                self.feature_ids.append(self.current_node.includes.decision_tree.tree_.feature[self.current_node.id])\n",
    "                self.feature_names.append(self.current_node.includes.vectorizer.features[self.current_node.includes.decision_tree.tree_.feature[self.current_node.id]])\n",
    "                \n",
    "                self.current_node.id = self.current_node.includes.decision_tree.tree_.children_left[self.current_node.id]\n",
    "                self.current_node.samples_stack = self.current_node.left_true_samples + self.current_node.right_true_samples\n",
    "                \n",
    "                return self.get_first_includes()\n",
    "\n",
    "        "
   ]
  },
  {
   "cell_type": "code",
   "execution_count": 106,
   "id": "83a04755-7d7f-430a-8e18-f8061c0a3945",
   "metadata": {},
   "outputs": [],
   "source": [
    "class second_includes:\n",
    "    def __init__(self,previous_result):\n",
    "        self.previous_result = previous_result\n",
    "        self.previous_includes_object = self.previous_result.first_includes_object\n",
    "        self.include_attributes = self.previous_includes_object.includes\n",
    "        self.current_existence = self.previous_includes_object.current_existence\n",
    "        self.feature_ids = []\n",
    "        self.feature_names = []\n",
    "        \n",
    "        self.get_second_includes()\n",
    "        \n",
    "    def get_second_includes(self):\n",
    "        for node_id in self.previous_includes_object.nodes:\n",
    "            self.feature_ids.append(self.include_attributes.decision_tree.tree_.feature[self.include_attributes.decision_tree.tree_.children_right[node_id]])\n",
    "            self.feature_names.append(self.include_attributes.vectorizer.features[self.include_attributes.decision_tree.tree_.feature[self.include_attributes.decision_tree.tree_.children_right[node_id]]])\n",
    "            self.previous_result.append_sequence([(self.previous_result.first_includes_object.feature_ids,'include')] + [(self.feature_ids,'include')],self.feature_names)"
   ]
  },
  {
   "cell_type": "code",
   "execution_count": 107,
   "id": "8ce1954a-91d3-422e-9ee0-d8aa6d0a3a2f",
   "metadata": {},
   "outputs": [],
   "source": [
    "class excludes:\n",
    "    def __init__(self,previous_includes):\n",
    "        if(previous_includes.sequence_results.get_best_sequence().accuracy == 100):\n",
    "            self.sequence_results = void_result()\n",
    "            return None\n",
    "        self.category = previous_includes.category\n",
    "        self.previous_results = previous_includes.sequence_results\n",
    "        self.logical_result_false_samples = np.logical_and(np.logical_not(previous_includes.category.logical_true_false_sample.values),previous_includes.sequence_results.get_best_sequence().logical_result)\n",
    "        self.logical_true_false_sample = np.array(previous_includes.category.logical_true_false_sample)[self.previous_results.get_best_sequence().logical_result]\n",
    "        self.vectorizer = vectorize_excludes(self)\n",
    "        self.decision_tree = get_classifier(self.vectorizer.vectorized_data,self.category.df[previous_includes.sequence_results.get_best_sequence().logical_result]['product_group'])\n",
    "        self.sequence_results  = sequence_result_exclude(self)\n",
    "        if(self.sequence_results.sequences == []):\n",
    "            self.sequence_results = void_result()\n",
    "            return None"
   ]
  },
  {
   "cell_type": "code",
   "execution_count": 84,
   "id": "7facf211-351f-4300-8205-ac153ed7d5f2",
   "metadata": {},
   "outputs": [],
   "source": [
    "class void_result:\n",
    "    \n",
    "    def get_best_sequence(self):\n",
    "        return void_excludes()"
   ]
  },
  {
   "cell_type": "code",
   "execution_count": 85,
   "id": "c82191b2-30c0-45a3-a7bf-39729f206a6e",
   "metadata": {},
   "outputs": [],
   "source": [
    "class void_excludes:\n",
    "    def __init__(self):\n",
    "        self.sequence = \"no result\"\n",
    "        self.accuracy = \"no result\"\n",
    "        self.logical_result = \"no result\"\n",
    "        self.existence = \"no result\""
   ]
  },
  {
   "cell_type": "code",
   "execution_count": 86,
   "id": "74636267-a86e-409b-b7a7-9b539c5d0dc3",
   "metadata": {},
   "outputs": [],
   "source": [
    "class sequence_result_exclude:\n",
    "    def __init__(self,excludes_attributes):\n",
    "        self.exclude_attributes = excludes_attributes\n",
    "        self.feature_ids = []\n",
    "        self.feature_names = []\n",
    "        self.curent_existence = self.exclude_attributes.previous_results.get_best_sequence().existence\n",
    "        self.sequences = []\n",
    "        self.accuracies = []\n",
    "        self.logical_results = []\n",
    "        self.existences = []\n",
    "        \n",
    "        self.get_sequences()\n",
    "        \n",
    "    def get_sequences(self):\n",
    "        node_ = node(self.exclude_attributes)\n",
    "        self.get_excludes(node_)\n",
    "        \n",
    "        \n",
    "    def get_excludes(self,node):\n",
    "        if(node.issplit()):\n",
    "            sequence_analysis_ = sequence_analysis([(self.feature_ids + [self.exclude_attributes.decision_tree.tree_.feature[node.id]],'exclude')],self.exclude_attributes)\n",
    "            if(threshold_reached(sequence_analysis_.existence)):\n",
    "                self.current_existence = sequence_analysis_.existence\n",
    "                self.feature_ids.append(self.exclude_attributes.decision_tree.tree_.feature[node.id])\n",
    "                self.feature_names.append(self.exclude_attributes.vectorizer.features[self.exclude_attributes.decision_tree.tree_.feature[node.id]])\n",
    "                self.sequences.append([(list(self.feature_names),'excludes')])\n",
    "                self.accuracies.append(sequence_analysis_.accuracy)\n",
    "                self.logical_results.append(sequence_analysis_.logical_result)\n",
    "                self.existences.append(self.current_existence)\n",
    "                node = self.next_node(node)\n",
    "                return self.get_excludes(node)\n",
    "            else:\n",
    "                node = self.next_node(node)\n",
    "                return self.get_excludes(node)\n",
    "        else:\n",
    "            return True\n",
    "        \n",
    "    def next_node(self,node):\n",
    "        new_node = node\n",
    "        new_node.id = self.exclude_attributes.decision_tree.tree_.children_right[node.id]\n",
    "        return new_node\n",
    "    def get_best_sequence(self):\n",
    "        return best_sequence(self)"
   ]
  },
  {
   "cell_type": "code",
   "execution_count": 87,
   "id": "2376a23d-7bdc-43b9-bcf6-db9ad60a0a52",
   "metadata": {},
   "outputs": [],
   "source": [
    "class node:\n",
    "    def __init__(self,includes):\n",
    "        self.includes = includes\n",
    "        self.children_left = includes.decision_tree.tree_.children_left\n",
    "        self.children_right = includes.decision_tree.tree_.children_right\n",
    "        self.sample_stack =  np.arange(self.includes.vectorizer.vectorized_data.shape[0])\n",
    "        self.total_true = includes.category.total_true\n",
    "        self.id = 0\n",
    "        self.left_true_samples = []\n",
    "        self.left_false_samples = []\n",
    "        self.right_true_samples = []\n",
    "        self.right_false_samples = []\n",
    "        \n",
    "    def issplit(self):\n",
    "        return self.children_left[self.id] != self.children_right[self.id]\n",
    "    \n",
    "    def divide_samples(self):\n",
    "        self.left_true_samples = []\n",
    "        self.left_false_samples = []\n",
    "        self.right_true_samples = []\n",
    "        self.right_false_samples = []\n",
    "        while len(self.sample_stack)>0:\n",
    "            sample_id,self.sample_stack = self.sample_stack[-1],self.sample_stack[:-1]\n",
    "            if(self.includes.vectorizer.vectorized_data[sample_id, self.includes.decision_tree.tree_.feature[self.id]] <0.5 and self.includes.category.logical_true_false_sample.values[sample_id] == True):\n",
    "                self.left_true_samples.append(sample_id)\n",
    "            elif(self.includes.vectorizer.vectorized_data[sample_id, self.includes.decision_tree.tree_.feature[self.id]] <0.5 and self.includes.category.logical_true_false_sample.values[sample_id] == False):\n",
    "                self.left_false_samples.append(sample_id)\n",
    "            elif(self.includes.vectorizer.vectorized_data[sample_id, self.includes.decision_tree.tree_.feature[self.id]] >0.5 and self.includes.category.logical_true_false_sample.values[sample_id] == True):\n",
    "                self.right_true_samples.append(sample_id)\n",
    "            else:\n",
    "                self.right_false_samples.append(sample_id)"
   ]
  },
  {
   "cell_type": "code",
   "execution_count": 88,
   "id": "09476549-4b21-4a6f-a99e-dff6a7e90f08",
   "metadata": {},
   "outputs": [],
   "source": [
    "class vectorize_excludes:\n",
    "    def __init__(self,exclude_object):\n",
    "        self.vectorized_data,self.features,self.Countvectorizer = self.vectorize(exclude_object)\n",
    "        \n",
    "    \n",
    "    def vectorize(self,exclude_object):\n",
    "        arr_match_excludes_only = get_name_matches(exclude_object.category.df[exclude_object.logical_result_false_samples]['product_match_vocab'])\n",
    "        result_arr_excludes_only = concatenize_matches_with_name(exclude_object.category.df[exclude_object.logical_result_false_samples]['display_name'],arr_match_excludes_only)\n",
    "        arr_match = get_name_matches(exclude_object.category.df[exclude_object.previous_results.get_best_sequence().logical_result]['product_match_vocab'])\n",
    "        result_arr = concatenize_matches_with_name(exclude_object.category.df[exclude_object.previous_results.get_best_sequence().logical_result]['display_name'],arr_match)\n",
    "        stop_words = get_stop_words(exclude_object.category.languages)\n",
    "        return vectorize_data(result_arr_excludes_only,result_arr,stop_words)"
   ]
  },
  {
   "cell_type": "code",
   "execution_count": 89,
   "id": "bb914503-045e-4201-9683-2f6b72e3a878",
   "metadata": {},
   "outputs": [],
   "source": [
    "def threshold_reached(existence):\n",
    "    if (existence <80):\n",
    "        return False\n",
    "    else:\n",
    "        return True"
   ]
  },
  {
   "cell_type": "code",
   "execution_count": 90,
   "id": "9bb588b4-2455-4950-a191-a85506f285a6",
   "metadata": {},
   "outputs": [],
   "source": [
    "class best_sequence:\n",
    "    def __init__(self,sequence_results):\n",
    "        best_accuracy_index = np.argmax(sequence_results.accuracies)\n",
    "        self.sequence = sequence_results.sequences[best_accuracy_index]\n",
    "        self.accuracy = sequence_results.accuracies[best_accuracy_index]\n",
    "        self.existence = sequence_results.existences[best_accuracy_index]\n",
    "        self.logical_result = sequence_results.logical_results[best_accuracy_index]"
   ]
  },
  {
   "cell_type": "code",
   "execution_count": 91,
   "id": "32b412ac-223f-43db-8528-513f6bcf7472",
   "metadata": {},
   "outputs": [],
   "source": [
    "class sequence_analysis:\n",
    "    \n",
    "    def __init__(self,sequence,attributes):\n",
    "        self.sequence = sequence\n",
    "        self.logical_result = self.analyse_sequence(self.sequence,attributes.vectorizer.vectorized_data)\n",
    "        self.total_result,self.total_true = self.get_resulting_count(self.logical_result,attributes.logical_true_false_sample)\n",
    "        self.accuracy = 100*self.total_true/self.total_result\n",
    "        self.existence = 100*self.total_true/attributes.category.total_true\n",
    "        \n",
    "        \n",
    "    def analyse_sequence(self,arr_of_tuples_of_ORs,X):\n",
    "        logicalOR_results= []\n",
    "        [logicalOR_results.append(self.get_logicalOR_result(tuple_of_ORs,X)) for tuple_of_ORs in arr_of_tuples_of_ORs]\n",
    "        return np.prod(logicalOR_results,axis=0).astype(bool)\n",
    "        \n",
    "    def get_logicalOR_result(self,tuple_of_OR,X):\n",
    "        if (len(tuple_of_OR[0]) >1):\n",
    "            logicalOR = np.sum(X[:,tuple_of_OR[0]].reshape((-1,X.shape[0])).toarray().squeeze(),axis=0).astype(bool)\n",
    "        else:\n",
    "            logicalOR = X[:,tuple_of_OR[0]].reshape((-1,X.shape[0])).toarray().squeeze().astype(bool)\n",
    "        if (tuple_of_OR[1] == 'include'):\n",
    "            return logicalOR\n",
    "        else:\n",
    "            return np.logical_not(logicalOR)\n",
    "        \n",
    "    def get_resulting_count(self,result_logical_operation,true_or_false_samples):\n",
    "        logicalAND = np.logical_and(result_logical_operation,true_or_false_samples)\n",
    "        num_true = 0\n",
    "        #num_false = 0\n",
    "        num_total = len([val for val in result_logical_operation if val == True])\n",
    "        for val in logicalAND:\n",
    "            if (val ==True):\n",
    "                num_true +=1\n",
    "            # else:\n",
    "            #     num_false +=1\n",
    "        return num_total,num_true"
   ]
  },
  {
   "cell_type": "code",
   "execution_count": 92,
   "id": "2e19ea0a-28ca-4d42-b9aa-cba003ecea82",
   "metadata": {},
   "outputs": [],
   "source": [
    "def get_classifier(X,y_real):\n",
    "    clf = DecisionTreeClassifier()\n",
    "    param = get_param_relative_to_data(X,y_real)\n",
    "    sh = GridSearchCV(clf,param).fit(X,y_real)\n",
    "    return sh.best_estimator_\n",
    "   \n",
    "\n",
    "def get_param_relative_to_data(X,y_real):\n",
    "    criterion = ['gini','entropy']\n",
    "    min_samples_leaf = [2,4,6,8,10,15,20]\n",
    "    min_samples_split = [2,4,8,10,20,30,40]\n",
    "    max_depth = []\n",
    "    class_weight = [\"balanced\"]\n",
    "    tuning_depth = get_tuning_depth(X,y_real)\n",
    "    if(tuning_depth >5):\n",
    "        for max_depth_value in range(int(tuning_depth/5),tuning_depth,int(tuning_depth/5)):\n",
    "            max_depth.append(max_depth_value)\n",
    "    else:\n",
    "        max_depth.append(tuning_depth)\n",
    "    param = {\n",
    "        'criterion' : criterion,\n",
    "        'max_depth' : max_depth,\n",
    "        'min_samples_leaf' : min_samples_leaf,\n",
    "        'min_samples_split' : min_samples_split,\n",
    "        #'class_weight' : class_weight                # remove comment to test\n",
    "    }\n",
    "    return param\n",
    "    \n",
    "    \n",
    "def get_tuning_depth(X,y_real):\n",
    "    not_tuned_clf = DecisionTreeClassifier()\n",
    "    not_tuned_clf.fit(X,y_real)\n",
    "    return not_tuned_clf.get_depth()"
   ]
  },
  {
   "cell_type": "code",
   "execution_count": 93,
   "id": "db1f3762-bd3c-4366-ac3c-4a0b19b65658",
   "metadata": {},
   "outputs": [],
   "source": [
    "class vectorize_includes:\n",
    "\n",
    "    \n",
    "    \n",
    "    def __init__(self,category):\n",
    "        self.vectorized_data,self.features,self.Countvectorizer = self.vectorize(category)\n",
    "    \n",
    "    \n",
    "    \n",
    "    def vectorize(self,category):\n",
    "        arr_match_includes_only = get_name_matches(category.df[category.logical_true_false_sample.values]['product_match_vocab'])\n",
    "        result_arr_includes_only = concatenize_matches_with_name(category.df[category.logical_true_false_sample.values]['display_name'],arr_match_includes_only)\n",
    "        arr_match = get_name_matches(category.df['product_match_vocab'])\n",
    "        result_arr = concatenize_matches_with_name(category.df['display_name'],arr_match)\n",
    "        stop_words = get_stop_words(category.languages)\n",
    "        return vectorize_data(result_arr_includes_only,result_arr,stop_words)\n"
   ]
  },
  {
   "cell_type": "code",
   "execution_count": 94,
   "id": "031fea25-fb0a-45c2-bed2-a538ba5059a8",
   "metadata": {},
   "outputs": [],
   "source": [
    "def get_stop_words(languages):\n",
    "    stop_words = []\n",
    "    for language in languages:\n",
    "        [stop_words.append(word) for word in stopwords.words(language)]\n",
    "    return stop_words\n",
    "        \n",
    "def get_name_matches(match_vocab):\n",
    "    arr_match = [match.split('____')[0].split('__') for match in match_vocab]\n",
    "    return arr_match\n",
    "def concatenize_matches_with_name(display_name,arr_match):\n",
    "    result_arr = []\n",
    "    for name, match in zip(display_name,arr_match):\n",
    "        result_arr.append(name+' '+' '.join(match))\n",
    "    return result_arr"
   ]
  },
  {
   "cell_type": "code",
   "execution_count": 95,
   "id": "be8c4bd9-0537-4218-8c45-8e8b9c35e543",
   "metadata": {},
   "outputs": [],
   "source": [
    "def vectorize_data(data_to_fit,data_to_transform,stop_words):\n",
    "    vectorizer = CountVectorizer(binary=True,stop_words=stop_words, token_pattern=r\"(?u)\\b\\w+\\b\", ngram_range=(1,2), min_df=0.1)\n",
    "    _ = vectorizer.fit(data_to_fit)\n",
    "    X = vectorizer.transform(data_to_transform)\n",
    "    return X, vectorizer.get_feature_names_out(),vectorizer"
   ]
  },
  {
   "cell_type": "code",
   "execution_count": 102,
   "id": "7ed0f95e-4eab-45f2-ac0f-dc61f0d545b0",
   "metadata": {},
   "outputs": [],
   "source": [
    "filtre = result_filtre(455,[458,455,3391,454,459,453,581,457,450,158],['german','english'])"
   ]
  },
  {
   "cell_type": "code",
   "execution_count": 103,
   "id": "09ac5d79-1b26-4ad4-9ab5-4bd134564ae3",
   "metadata": {},
   "outputs": [
    {
     "name": "stdout",
     "output_type": "stream",
     "text": [
      "455\n",
      "no result 0\n",
      "[(['gaming'], 'excludes')] 18.498367791077257\n"
     ]
    }
   ],
   "source": [
    "filtre.show()"
   ]
  },
  {
   "cell_type": "code",
   "execution_count": 104,
   "id": "8be9d73a-da82-4fe9-a79e-4cdbef472a41",
   "metadata": {},
   "outputs": [],
   "source": [
    "#testing on multiple categories\n",
    "categories = [1401,1402,430,462,920,3109,3391,3951,455,545]\n",
    "#confused_categories = get_confused_categories(all_df,['german','english'], categories)\n",
    "confused_categories = [[1401,3123,3124,3122,3136,3126,1416,3400,3117,3114],\n",
    "                       [1402,1417,3137,3123],\n",
    "                       [430,562,448,3515,431,3600,437,3955,220,219],\n",
    "                       [458,462,454,459,453,581,457,450,158],\n",
    "                       [920,3612,3623,3611,3622,4213,3618,3613,3615,841],\n",
    "                       [3109,422,3107,385,3108,462,956,3353,3106,165],\n",
    "                       [3391,458,455,3136,454,453,581,3124,3680,457],\n",
    "                       [458,3951,3391,454,459,453,581,457,450,158],\n",
    "                       [458,455,3391,454,459,453,581,457,450,158],\n",
    "                       [545,3953,3954,3951,512,455,426,3515,3963,3612]]"
   ]
  },
  {
   "cell_type": "code",
   "execution_count": 108,
   "id": "53bb7272-4396-4b54-877e-a83ce44f30ff",
   "metadata": {},
   "outputs": [
    {
     "name": "stderr",
     "output_type": "stream",
     "text": [
      "C:\\Users\\mikod\\anaconda3\\envs\\categorization\\lib\\site-packages\\sklearn\\model_selection\\_split.py:676: UserWarning: The least populated class in y has only 1 members, which is less than n_splits=5.\n",
      "  warnings.warn(\n"
     ]
    },
    {
     "name": "stdout",
     "output_type": "stream",
     "text": [
      "1401\n",
      "[[(['playstation 4'], 'include')], (['ps4'], 'include')] 92.62411347517731\n",
      "[(['controller'], 'excludes')] 96.17083946980854\n"
     ]
    },
    {
     "name": "stderr",
     "output_type": "stream",
     "text": [
      "C:\\Users\\mikod\\anaconda3\\envs\\categorization\\lib\\site-packages\\sklearn\\model_selection\\_split.py:676: UserWarning: The least populated class in y has only 4 members, which is less than n_splits=5.\n",
      "  warnings.warn(\n"
     ]
    },
    {
     "name": "stdout",
     "output_type": "stream",
     "text": [
      "1402\n",
      "[(['xbox'], 'include')] 76.34660421545668\n",
      "[(['xbx'], 'excludes')] 95.30791788856305\n"
     ]
    },
    {
     "name": "stderr",
     "output_type": "stream",
     "text": [
      "C:\\Users\\mikod\\anaconda3\\envs\\categorization\\lib\\site-packages\\sklearn\\model_selection\\_split.py:676: UserWarning: The least populated class in y has only 1 members, which is less than n_splits=5.\n",
      "  warnings.warn(\n"
     ]
    },
    {
     "name": "stdout",
     "output_type": "stream",
     "text": [
      "430\n",
      "[(['batterie'], 'include')] 60.8974358974359\n",
      "[(['knopfzelle'], 'excludes')] 73.07692307692308\n",
      "462\n",
      "[(['hdmi'], 'include')] 100.0\n",
      "no result no result\n",
      "920\n",
      "[(['e scooter'], 'include')] 100.0\n",
      "no result no result\n"
     ]
    },
    {
     "name": "stderr",
     "output_type": "stream",
     "text": [
      "C:\\Users\\mikod\\anaconda3\\envs\\categorization\\lib\\site-packages\\sklearn\\model_selection\\_split.py:676: UserWarning: The least populated class in y has only 2 members, which is less than n_splits=5.\n",
      "  warnings.warn(\n"
     ]
    },
    {
     "name": "stdout",
     "output_type": "stream",
     "text": [
      "3109\n",
      "[(['gaming monitor'], 'include')] 86.86131386861314\n",
      "[(['75'], 'excludes')] 90.69767441860465\n",
      "3391\n",
      "[(['gaming'], 'include')] 64.453125\n",
      "[(['astro gaming'], 'excludes')] 68.18181818181819\n",
      "3951\n",
      "no result 0\n",
      "[(['gaming'], 'excludes')] 3.851091142490372\n",
      "455\n",
      "no result 0\n",
      "[(['gaming'], 'excludes')] 18.498367791077257\n",
      "545\n",
      "no result 0\n",
      "[(['displayschutzglas'], 'excludes')] 16.946778711484594\n"
     ]
    }
   ],
   "source": [
    "for category_ , confused_category in zip(categories,confused_categories):\n",
    "    filtre = result_filtre(category_,confused_category,['german','english'])\n",
    "    filtre.show()"
   ]
  },
  {
   "cell_type": "code",
   "execution_count": null,
   "id": "657c483e-6823-46d6-a677-38073f4cfa33",
   "metadata": {},
   "outputs": [],
   "source": []
  }
 ],
 "metadata": {
  "kernelspec": {
   "display_name": "Python 3 (ipykernel)",
   "language": "python",
   "name": "python3"
  },
  "language_info": {
   "codemirror_mode": {
    "name": "ipython",
    "version": 3
   },
   "file_extension": ".py",
   "mimetype": "text/x-python",
   "name": "python",
   "nbconvert_exporter": "python",
   "pygments_lexer": "ipython3",
   "version": "3.11.4"
  }
 },
 "nbformat": 4,
 "nbformat_minor": 5
}
